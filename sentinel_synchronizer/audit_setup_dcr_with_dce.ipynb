{
 "cells": [
  {
   "cell_type": "markdown",
   "metadata": {
    "application/vnd.databricks.v1+cell": {
     "cellMetadata": {
      "byteLimit": 2048000,
      "rowLimit": 10000
     },
     "inputWidgets": {},
     "nuid": "266f538c-4cc9-4255-85d7-be274589c2a8",
     "showTitle": false,
     "tableResultSettingsMap": {},
     "title": ""
    }
   },
   "source": [
    "#Setup Audit Table"
   ]
  },
  {
   "cell_type": "code",
   "execution_count": 0,
   "metadata": {
    "application/vnd.databricks.v1+cell": {
     "cellMetadata": {
      "byteLimit": 2048000,
      "rowLimit": 10000
     },
     "inputWidgets": {},
     "nuid": "efa23fc7-239b-4610-a710-ac775e74c2ee",
     "showTitle": false,
     "tableResultSettingsMap": {},
     "title": ""
    }
   },
   "outputs": [],
   "source": [
    "%pip install -r ./requirements.txt -q\n",
    "dbutils.library.restartPython()"
   ]
  },
  {
   "cell_type": "code",
   "execution_count": 0,
   "metadata": {
    "application/vnd.databricks.v1+cell": {
     "cellMetadata": {
      "byteLimit": 2048000,
      "rowLimit": 10000
     },
     "inputWidgets": {},
     "nuid": "1c0bab14-ac2b-464e-b7d3-dff125a6ee3a",
     "showTitle": false,
     "tableResultSettingsMap": {},
     "title": ""
    }
   },
   "outputs": [],
   "source": [
    "from sentinel_libraries import *"
   ]
  },
  {
   "cell_type": "markdown",
   "metadata": {
    "application/vnd.databricks.v1+cell": {
     "cellMetadata": {
      "byteLimit": 2048000,
      "rowLimit": 10000
     },
     "inputWidgets": {},
     "nuid": "c016bff9-40e8-4509-b06a-f19b0a975df8",
     "showTitle": false,
     "tableResultSettingsMap": {},
     "title": ""
    }
   },
   "source": [
    "## Environment"
   ]
  },
  {
   "cell_type": "code",
   "execution_count": 0,
   "metadata": {
    "application/vnd.databricks.v1+cell": {
     "cellMetadata": {
      "byteLimit": 2048000,
      "rowLimit": 10000
     },
     "inputWidgets": {},
     "nuid": "32cba455-569c-4367-85b0-d3fa86e6758f",
     "showTitle": false,
     "tableResultSettingsMap": {},
     "title": ""
    }
   },
   "outputs": [],
   "source": [
    "dbutils.widgets.text(\"tenant_id\", \"\")\n",
    "dbutils.widgets.text(\"subscription_id\", \"\")\n",
    "dbutils.widgets.text(\"sp_client_id\", \"\")\n",
    "dbutils.widgets.text(\"sp_client_secret_scope\", \"\")\n",
    "dbutils.widgets.text(\"sp_client_secret_key\", \"\")\n",
    "dbutils.widgets.text(\"resource_group_name\", \"\")\n",
    "dbutils.widgets.text(\"location\", \"\")\n",
    "dbutils.widgets.text(\"log_analytics_workspace_name\", \"\")\n",
    "dbutils.widgets.text(\"log_analytics_resource_group_name\", \"\")\n",
    "dbutils.widgets.text(\"table_name\", \"AdbSystemAccessAudit\")"
   ]
  },
  {
   "cell_type": "code",
   "execution_count": 0,
   "metadata": {
    "application/vnd.databricks.v1+cell": {
     "cellMetadata": {
      "byteLimit": 2048000,
      "rowLimit": 10000
     },
     "inputWidgets": {},
     "nuid": "7d5e453e-1927-4a52-a782-0d0a31ac4b73",
     "showTitle": false,
     "tableResultSettingsMap": {},
     "title": ""
    }
   },
   "outputs": [],
   "source": [
    "tenant_id = dbutils.widgets.get(\"tenant_id\")\n",
    "subscription_id = dbutils.widgets.get(\"subscription_id\")\n",
    "sp_client_id = dbutils.widgets.get(\"sp_client_id\")\n",
    "sp_client_secret_scope = dbutils.widgets.get(\"sp_client_secret_scope\")\n",
    "sp_client_secret_key = dbutils.widgets.get(\"sp_client_secret_key\")\n",
    "resource_group_name = dbutils.widgets.get(\"resource_group_name\")\n",
    "location = dbutils.widgets.get(\"location\")\n",
    "log_analytics_workspace_name = dbutils.widgets.get(\"log_analytics_workspace_name\")\n",
    "log_analytics_resource_group_name = dbutils.widgets.get(\"log_analytics_resource_group_name\")\n",
    "table_name = dbutils.widgets.get(\"table_name\")"
   ]
  },
  {
   "cell_type": "code",
   "execution_count": 0,
   "metadata": {
    "application/vnd.databricks.v1+cell": {
     "cellMetadata": {
      "byteLimit": 2048000,
      "rowLimit": 10000
     },
     "inputWidgets": {},
     "nuid": "6c363891-20b6-47c1-a2bc-09c9e4cb1150",
     "showTitle": false,
     "tableResultSettingsMap": {},
     "title": ""
    }
   },
   "outputs": [],
   "source": [
    "sp_secret = dbutils.secrets.get(sp_client_secret_scope, sp_client_secret_key)\n",
    "table_retention_in_days = 180\n",
    "\n",
    "log_analytics_table_name = f\"{table_name}_CL\"\n",
    "data_collection_endpoint_name = f\"{table_name}-dce\"\n",
    "data_collection_rule_name = f\"{table_name}-dcr\"\n",
    "raw_stream_declaration_name = f\"Custom-{table_name}RawData\""
   ]
  },
  {
   "cell_type": "code",
   "execution_count": 0,
   "metadata": {
    "application/vnd.databricks.v1+cell": {
     "cellMetadata": {
      "byteLimit": 2048000,
      "rowLimit": 10000
     },
     "inputWidgets": {},
     "nuid": "44e89787-0754-4690-98a3-545490aecd5d",
     "showTitle": false,
     "tableResultSettingsMap": {},
     "title": ""
    }
   },
   "outputs": [],
   "source": [
    "from azure.identity import ClientSecretCredential, DefaultAzureCredential\n",
    "\n",
    "credentials = ClientSecretCredential(\n",
    "    tenant_id=tenant_id,\n",
    "    client_id=sp_client_id,\n",
    "    client_secret=sp_secret,\n",
    ")"
   ]
  },
  {
   "cell_type": "markdown",
   "metadata": {
    "application/vnd.databricks.v1+cell": {
     "cellMetadata": {},
     "inputWidgets": {},
     "nuid": "307cc525-526d-4209-a8b6-784fccac7767",
     "showTitle": false,
     "tableResultSettingsMap": {},
     "title": ""
    }
   },
   "source": [
    "### Log Analytics Contributor on the resource group"
   ]
  },
  {
   "cell_type": "markdown",
   "metadata": {
    "application/vnd.databricks.v1+cell": {
     "cellMetadata": {
      "byteLimit": 2048000,
      "rowLimit": 10000
     },
     "inputWidgets": {},
     "nuid": "5cc769a2-4633-4d1d-92d9-03caf1e98352",
     "showTitle": false,
     "tableResultSettingsMap": {},
     "title": ""
    }
   },
   "source": [
    "## Log Analytics Table Creation"
   ]
  },
  {
   "cell_type": "code",
   "execution_count": 0,
   "metadata": {
    "application/vnd.databricks.v1+cell": {
     "cellMetadata": {
      "byteLimit": 2048000,
      "rowLimit": 10000
     },
     "inputWidgets": {},
     "nuid": "04720b2e-dc6d-4f99-8423-b37fa35d7e35",
     "showTitle": false,
     "tableResultSettingsMap": {},
     "title": ""
    }
   },
   "outputs": [],
   "source": [
    "log_analytics_table_schema = Schema(\n",
    "    name=log_analytics_table_name,\n",
    "    description=\"Databricks system.access.audit system table\",\n",
    "    columns=[\n",
    "        Column(name=\"TimeGenerated\", type=ColumnTypeEnum.DATE_TIME),\n",
    "        Column(name=\"TimeIngested\", type=ColumnTypeEnum.DATE_TIME),\n",
    "        Column(name=\"account_id\", type=ColumnTypeEnum.STRING),\n",
    "        Column(name=\"workspace_id\", type=ColumnTypeEnum.STRING),\n",
    "        Column(name=\"version\", type=ColumnTypeEnum.STRING),\n",
    "        Column(name=\"event_time\", type=ColumnTypeEnum.DATE_TIME),\n",
    "        Column(name=\"event_date\", type=ColumnTypeEnum.DATE_TIME),\n",
    "        Column(name=\"source_ip_address\", type=ColumnTypeEnum.STRING),\n",
    "        Column(name=\"user_agent\", type=ColumnTypeEnum.STRING),\n",
    "        Column(name=\"session_id\", type=ColumnTypeEnum.STRING),\n",
    "        Column(name=\"user_identity\", type=ColumnTypeEnum.DYNAMIC),\n",
    "        Column(name=\"service_name\", type=ColumnTypeEnum.STRING),\n",
    "        Column(name=\"action_name\", type=ColumnTypeEnum.STRING),\n",
    "        Column(name=\"request_id\", type=ColumnTypeEnum.STRING),\n",
    "        Column(name=\"request_params\", type=ColumnTypeEnum.DYNAMIC),\n",
    "        Column(name=\"response\", type=ColumnTypeEnum.DYNAMIC),\n",
    "        Column(name=\"audit_level\", type=ColumnTypeEnum.STRING),\n",
    "        Column(name=\"event_id\", type=ColumnTypeEnum.STRING),\n",
    "        Column(name=\"identity_metadata\", type=ColumnTypeEnum.DYNAMIC),\n",
    "    ],\n",
    ")\n",
    "log_analytics_table = Table(retention_in_days=180, schema=log_analytics_table_schema)"
   ]
  },
  {
   "cell_type": "code",
   "execution_count": 0,
   "metadata": {
    "application/vnd.databricks.v1+cell": {
     "cellMetadata": {
      "byteLimit": 2048000,
      "rowLimit": 10000
     },
     "inputWidgets": {},
     "nuid": "e68bcad8-afa8-4894-8a1f-4d7f5f32d7d6",
     "showTitle": false,
     "tableResultSettingsMap": {},
     "title": ""
    }
   },
   "outputs": [],
   "source": [
    "table = get_table(\n",
    "    credentials, subscription_id, log_analytics_resource_group_name, log_analytics_workspace_name, log_analytics_table_name\n",
    ")\n",
    "if not table:\n",
    "    create_table(\n",
    "        log_analytics_table_name,\n",
    "        log_analytics_table,\n",
    "        credentials,\n",
    "        subscription_id,\n",
    "        log_analytics_resource_group_name,\n",
    "        log_analytics_workspace_name,\n",
    "    )\n",
    "    print(f\"Table {log_analytics_table_name} created!\")\n",
    "else:\n",
    "    print(f\"Table creation skipped: {log_analytics_table_name} already exists.\")"
   ]
  },
  {
   "cell_type": "markdown",
   "metadata": {
    "application/vnd.databricks.v1+cell": {
     "cellMetadata": {},
     "inputWidgets": {},
     "nuid": "41113471-a0ec-4e1b-8378-a2fbac70d9fc",
     "showTitle": false,
     "tableResultSettingsMap": {},
     "title": ""
    }
   },
   "source": [
    "### Monitoring Contributor on the resource group"
   ]
  },
  {
   "cell_type": "markdown",
   "metadata": {
    "application/vnd.databricks.v1+cell": {
     "cellMetadata": {
      "byteLimit": 2048000,
      "rowLimit": 10000
     },
     "inputWidgets": {},
     "nuid": "f9d9e791-7d30-4542-98fd-a99d76b7310c",
     "showTitle": false,
     "tableResultSettingsMap": {},
     "title": ""
    }
   },
   "source": [
    "## DCE Creation"
   ]
  },
  {
   "cell_type": "code",
   "execution_count": 0,
   "metadata": {
    "application/vnd.databricks.v1+cell": {
     "cellMetadata": {
      "byteLimit": 2048000,
      "rowLimit": 10000
     },
     "inputWidgets": {},
     "nuid": "36888603-d07d-4c75-b1ae-a583fdec0a59",
     "showTitle": false,
     "tableResultSettingsMap": {},
     "title": ""
    }
   },
   "outputs": [],
   "source": [
    "dce = get_dce(credentials, subscription_id, resource_group_name, data_collection_endpoint_name)\n",
    "if not dce:\n",
    "    dce = create_dce(location, credentials, subscription_id, resource_group_name, data_collection_endpoint_name)\n",
    "    print(f\"DCE {data_collection_endpoint_name} created!\")\n",
    "else:\n",
    "    print(f\"DCE creation skipped: {data_collection_endpoint_name} already exists.\")"
   ]
  },
  {
   "cell_type": "markdown",
   "metadata": {
    "application/vnd.databricks.v1+cell": {
     "cellMetadata": {
      "byteLimit": 2048000,
      "rowLimit": 10000
     },
     "inputWidgets": {},
     "nuid": "f6c02f47-a5ed-4907-b563-6445d9de05cc",
     "showTitle": false,
     "tableResultSettingsMap": {},
     "title": ""
    }
   },
   "source": [
    "## DCR Creation"
   ]
  },
  {
   "cell_type": "code",
   "execution_count": 0,
   "metadata": {
    "application/vnd.databricks.v1+cell": {
     "cellMetadata": {
      "byteLimit": 2048000,
      "rowLimit": 10000
     },
     "inputWidgets": {},
     "nuid": "567f6757-b469-40ae-82f7-474ad9e9ea5a",
     "showTitle": false,
     "tableResultSettingsMap": {},
     "title": ""
    }
   },
   "outputs": [],
   "source": [
    "dcr = get_dcr(credentials, subscription_id, resource_group_name, data_collection_rule_name)\n",
    "if not dcr:\n",
    "    dcr = create_dcr(log_analytics_resource_group_name, log_analytics_workspace_name, log_analytics_table_schema, raw_stream_declaration_name, log_analytics_table_name, location, credentials, subscription_id, resource_group_name, data_collection_rule_name, data_collection_endpoint_name)\n",
    "    print(f\"DCR {data_collection_rule_name} created!\")\n",
    "else:\n",
    "    print(f\"DCR creation skipped: {data_collection_rule_name} already exists.\")"
   ]
  },
  {
   "cell_type": "code",
   "execution_count": 0,
   "metadata": {
    "application/vnd.databricks.v1+cell": {
     "cellMetadata": {},
     "inputWidgets": {},
     "nuid": "6cedd5e3-b634-4433-86b9-0fa53b40f0c9",
     "showTitle": false,
     "tableResultSettingsMap": {},
     "title": ""
    }
   },
   "outputs": [],
   "source": []
  }
 ],
 "metadata": {
  "application/vnd.databricks.v1+notebook": {
   "computePreferences": null,
   "dashboards": [],
   "environmentMetadata": null,
   "language": "python",
   "notebookMetadata": {
    "pythonIndentUnit": 2
   },
   "notebookName": "audit_setup_dcr_with_dce",
   "widgets": {
    "location": {
     "currentValue": "",
     "nuid": "0ca87572-1126-49db-a76a-a7543e4c9bba",
     "typedWidgetInfo": {
      "autoCreated": false,
      "defaultValue": "",
      "label": null,
      "name": "location",
      "options": {
       "widgetDisplayType": "Text",
       "validationRegex": null
      },
      "parameterDataType": "String"
     },
     "widgetInfo": {
      "widgetType": "text",
      "defaultValue": "",
      "label": null,
      "name": "location",
      "options": {
       "widgetType": "text",
       "autoCreated": null,
       "validationRegex": null
      }
     }
    },
    "log_analytics_resource_group_name": {
     "currentValue": "",
     "nuid": "0819d9a9-aa59-4b70-b85a-689d47a42313",
     "typedWidgetInfo": {
      "autoCreated": false,
      "defaultValue": "",
      "label": null,
      "name": "log_analytics_resource_group_name",
      "options": {
       "widgetDisplayType": "Text",
       "validationRegex": null
      },
      "parameterDataType": "String"
     },
     "widgetInfo": {
      "widgetType": "text",
      "defaultValue": "",
      "label": null,
      "name": "log_analytics_resource_group_name",
      "options": {
       "widgetType": "text",
       "autoCreated": null,
       "validationRegex": null
      }
     }
    },
    "log_analytics_workspace_name": {
     "currentValue": "",
     "nuid": "1ab381f0-42c9-456e-9c2e-134b69ecb213",
     "typedWidgetInfo": {
      "autoCreated": false,
      "defaultValue": "",
      "label": null,
      "name": "log_analytics_workspace_name",
      "options": {
       "widgetDisplayType": "Text",
       "validationRegex": null
      },
      "parameterDataType": "String"
     },
     "widgetInfo": {
      "widgetType": "text",
      "defaultValue": "",
      "label": null,
      "name": "log_analytics_workspace_name",
      "options": {
       "widgetType": "text",
       "autoCreated": null,
       "validationRegex": null
      }
     }
    },
    "resource_group_name": {
     "currentValue": "",
     "nuid": "5f7d8097-4573-4817-ba9b-37db9cb6a4fa",
     "typedWidgetInfo": {
      "autoCreated": false,
      "defaultValue": "",
      "label": null,
      "name": "resource_group_name",
      "options": {
       "widgetDisplayType": "Text",
       "validationRegex": null
      },
      "parameterDataType": "String"
     },
     "widgetInfo": {
      "widgetType": "text",
      "defaultValue": "",
      "label": null,
      "name": "resource_group_name",
      "options": {
       "widgetType": "text",
       "autoCreated": null,
       "validationRegex": null
      }
     }
    },
    "sp_client_id": {
     "currentValue": "",
     "nuid": "146c412c-dd92-4ad7-ad15-2ad9c2b58ab5",
     "typedWidgetInfo": {
      "autoCreated": false,
      "defaultValue": "",
      "label": null,
      "name": "sp_client_id",
      "options": {
       "widgetDisplayType": "Text",
       "validationRegex": null
      },
      "parameterDataType": "String"
     },
     "widgetInfo": {
      "widgetType": "text",
      "defaultValue": "",
      "label": null,
      "name": "sp_client_id",
      "options": {
       "widgetType": "text",
       "autoCreated": null,
       "validationRegex": null
      }
     }
    },
    "sp_client_secret_key": {
     "currentValue": "",
     "nuid": "71e3d477-2774-4e2b-86be-8b18e36c4291",
     "typedWidgetInfo": {
      "autoCreated": false,
      "defaultValue": "",
      "label": null,
      "name": "sp_client_secret_key",
      "options": {
       "widgetDisplayType": "Text",
       "validationRegex": null
      },
      "parameterDataType": "String"
     },
     "widgetInfo": {
      "widgetType": "text",
      "defaultValue": "",
      "label": null,
      "name": "sp_client_secret_key",
      "options": {
       "widgetType": "text",
       "autoCreated": null,
       "validationRegex": null
      }
     }
    },
    "sp_client_secret_scope": {
     "currentValue": "",
     "nuid": "218615df-7dbb-4838-acd6-9597e7bdcc84",
     "typedWidgetInfo": {
      "autoCreated": false,
      "defaultValue": "",
      "label": null,
      "name": "sp_client_secret_scope",
      "options": {
       "widgetDisplayType": "Text",
       "validationRegex": null
      },
      "parameterDataType": "String"
     },
     "widgetInfo": {
      "widgetType": "text",
      "defaultValue": "",
      "label": null,
      "name": "sp_client_secret_scope",
      "options": {
       "widgetType": "text",
       "autoCreated": null,
       "validationRegex": null
      }
     }
    },
    "subscription_id": {
     "currentValue": "",
     "nuid": "9f6dbeed-fd9d-4e1d-b959-3a2eb757a1e9",
     "typedWidgetInfo": {
      "autoCreated": false,
      "defaultValue": "",
      "label": null,
      "name": "subscription_id",
      "options": {
       "widgetDisplayType": "Text",
       "validationRegex": null
      },
      "parameterDataType": "String"
     },
     "widgetInfo": {
      "widgetType": "text",
      "defaultValue": "",
      "label": null,
      "name": "subscription_id",
      "options": {
       "widgetType": "text",
       "autoCreated": null,
       "validationRegex": null
      }
     }
    },
    "table_name": {
     "currentValue": "AdbSystemAccessAudit",
     "nuid": "205cebe1-b73c-490c-b24c-76b5f1f8c298",
     "typedWidgetInfo": {
      "autoCreated": false,
      "defaultValue": "AdbSystemAccessAudit",
      "label": null,
      "name": "table_name",
      "options": {
       "widgetDisplayType": "Text",
       "validationRegex": null
      },
      "parameterDataType": "String"
     },
     "widgetInfo": {
      "widgetType": "text",
      "defaultValue": "AdbSystemAccessAudit",
      "label": null,
      "name": "table_name",
      "options": {
       "widgetType": "text",
       "autoCreated": null,
       "validationRegex": null
      }
     }
    },
    "tenant_id": {
     "currentValue": "",
     "nuid": "f4e5605c-f595-4ce6-80e0-e470fc0e558b",
     "typedWidgetInfo": {
      "autoCreated": false,
      "defaultValue": "",
      "label": null,
      "name": "tenant_id",
      "options": {
       "widgetDisplayType": "Text",
       "validationRegex": null
      },
      "parameterDataType": "String"
     },
     "widgetInfo": {
      "widgetType": "text",
      "defaultValue": "",
      "label": null,
      "name": "tenant_id",
      "options": {
       "widgetType": "text",
       "autoCreated": null,
       "validationRegex": null
      }
     }
    }
   }
  },
  "kernelspec": {
   "display_name": ".venv",
   "language": "python",
   "name": "python3"
  },
  "language_info": {
   "name": "python"
  }
 },
 "nbformat": 4,
 "nbformat_minor": 0
}
