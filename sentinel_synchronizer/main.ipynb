{
 "cells": [
  {
   "cell_type": "markdown",
   "metadata": {
    "application/vnd.databricks.v1+cell": {
     "cellMetadata": {
      "byteLimit": 2048000,
      "rowLimit": 10000
     },
     "inputWidgets": {},
     "nuid": "482de6fd-08fa-427d-b658-930501101c11",
     "showTitle": false,
     "tableResultSettingsMap": {},
     "title": ""
    }
   },
   "source": [
    "## Permissions\n",
    "Minimum permissions to run this are:\n",
    "* Monitoring Metrics Publisher on DCR to write\n",
    "* Monitoring Reader on DCR\n",
    "* Monitoring Reader on DCE"
   ]
  },
  {
   "cell_type": "markdown",
   "metadata": {
    "application/vnd.databricks.v1+cell": {
     "cellMetadata": {
      "byteLimit": 2048000,
      "rowLimit": 10000
     },
     "inputWidgets": {},
     "nuid": "1f111ba5-840c-4ba8-8614-6c86ed0ed610",
     "showTitle": false,
     "tableResultSettingsMap": {},
     "title": ""
    }
   },
   "source": [
    "# Setup"
   ]
  },
  {
   "cell_type": "code",
   "execution_count": 0,
   "metadata": {
    "application/vnd.databricks.v1+cell": {
     "cellMetadata": {
      "byteLimit": 2048000,
      "rowLimit": 10000
     },
     "inputWidgets": {},
     "nuid": "6fbe7019-3314-44e2-933f-c00bc17c77b3",
     "showTitle": false,
     "tableResultSettingsMap": {},
     "title": ""
    }
   },
   "outputs": [],
   "source": [
    "%pip install -r ./requirements.txt -q\n",
    "dbutils.library.restartPython()"
   ]
  },
  {
   "cell_type": "code",
   "execution_count": 0,
   "metadata": {
    "application/vnd.databricks.v1+cell": {
     "cellMetadata": {
      "byteLimit": 2048000,
      "rowLimit": 10000
     },
     "inputWidgets": {},
     "nuid": "21261cf2-e548-42a7-bab4-d3b379bd1b08",
     "showTitle": false,
     "tableResultSettingsMap": {},
     "title": ""
    }
   },
   "outputs": [],
   "source": [
    "import json\n",
    "\n",
    "from azure.core.exceptions import HttpResponseError\n",
    "from azure.identity import ClientSecretCredential, DefaultAzureCredential\n",
    "from azure.monitor.ingestion import LogsIngestionClient\n",
    "\n",
    "from pyspark.sql import functions as F\n",
    "from pyspark.sql.types import TimestampType\n",
    "\n",
    "from sentinel_libraries import *"
   ]
  },
  {
   "cell_type": "markdown",
   "metadata": {
    "application/vnd.databricks.v1+cell": {
     "cellMetadata": {
      "byteLimit": 2048000,
      "rowLimit": 10000
     },
     "inputWidgets": {},
     "nuid": "9a221353-8fc7-4177-a9f8-8a937c84b816",
     "showTitle": false,
     "tableResultSettingsMap": {},
     "title": ""
    }
   },
   "source": [
    "# Variables"
   ]
  },
  {
   "cell_type": "code",
   "execution_count": 0,
   "metadata": {
    "application/vnd.databricks.v1+cell": {
     "cellMetadata": {
      "byteLimit": 2048000,
      "rowLimit": 10000
     },
     "inputWidgets": {},
     "nuid": "e7f4caaf-afcc-4f98-974b-1a1952676c65",
     "showTitle": false,
     "tableResultSettingsMap": {},
     "title": ""
    }
   },
   "outputs": [],
   "source": [
    "dbutils.widgets.text(\"log_analytics_table_name\", \"\")\n",
    "dbutils.widgets.text(\"system_table_name\", \"\")\n",
    "dbutils.widgets.text(\"checkpoint_volume_location\", \"\")\n",
    "dbutils.widgets.text(\"starting_datetime\", \"\")\n",
    "dbutils.widgets.text(\"workspace_ids\", \"\")\n",
    "dbutils.widgets.text(\"processing_time\", \"1 minute\")\n",
    "\n",
    "dbutils.widgets.text(\"tenant_id\", \"\")\n",
    "dbutils.widgets.text(\"subscription_id\", \"\")\n",
    "dbutils.widgets.text(\"sp_client_id\", \"\")\n",
    "dbutils.widgets.text(\"sp_client_secret_scope\", \"\")\n",
    "dbutils.widgets.text(\"sp_client_secret_key\", \"\")\n",
    "dbutils.widgets.text(\"resource_group_name\", \"\")"
   ]
  },
  {
   "cell_type": "code",
   "execution_count": 0,
   "metadata": {
    "application/vnd.databricks.v1+cell": {
     "cellMetadata": {
      "byteLimit": 2048000,
      "rowLimit": 10000
     },
     "inputWidgets": {},
     "nuid": "cabb0891-6f6e-4ce5-a738-103c370a8984",
     "showTitle": false,
     "tableResultSettingsMap": {},
     "title": ""
    }
   },
   "outputs": [],
   "source": [
    "log_analytics_table_name = dbutils.widgets.get(\"log_analytics_table_name\")\n",
    "system_table_name = dbutils.widgets.get(\"system_table_name\")\n",
    "checkpoint_volume_location = dbutils.widgets.get(\"checkpoint_volume_location\")\n",
    "starting_datetime = dbutils.widgets.get(\"starting_datetime\")\n",
    "workspace_ids = json.loads(dbutils.widgets.get(\"workspace_ids\"))\n",
    "processing_time = dbutils.widgets.get(\"processing_time\")\n",
    "\n",
    "tenant_id = dbutils.widgets.get(\"tenant_id\")\n",
    "subscription_id = dbutils.widgets.get(\"subscription_id\")\n",
    "sp_client_id = dbutils.widgets.get(\"sp_client_id\")\n",
    "sp_client_secret_scope = dbutils.widgets.get(\"sp_client_secret_scope\")\n",
    "sp_client_secret_key = dbutils.widgets.get(\"sp_client_secret_key\")\n",
    "resource_group_name = dbutils.widgets.get(\"resource_group_name\")\n",
    "\n",
    "sp_secret = dbutils.secrets.get(sp_client_secret_scope, sp_client_secret_key)"
   ]
  },
  {
   "cell_type": "code",
   "execution_count": 0,
   "metadata": {
    "application/vnd.databricks.v1+cell": {
     "cellMetadata": {
      "byteLimit": 2048000,
      "rowLimit": 10000
     },
     "inputWidgets": {},
     "nuid": "ae5291d1-c127-4509-bd24-9ab96b8a29b4",
     "showTitle": false,
     "tableResultSettingsMap": {},
     "title": ""
    }
   },
   "outputs": [],
   "source": [
    "print(log_analytics_table_name)\n",
    "print(system_table_name)\n",
    "print(checkpoint_volume_location)\n",
    "print(starting_datetime)\n",
    "print(workspace_ids)\n",
    "print(processing_time)"
   ]
  },
  {
   "cell_type": "markdown",
   "metadata": {
    "application/vnd.databricks.v1+cell": {
     "cellMetadata": {
      "byteLimit": 2048000,
      "rowLimit": 10000
     },
     "inputWidgets": {},
     "nuid": "45a6feab-c12c-4bbd-a6a5-c0f557c29688",
     "showTitle": false,
     "tableResultSettingsMap": {},
     "title": ""
    }
   },
   "source": [
    "# Initialization"
   ]
  },
  {
   "cell_type": "code",
   "execution_count": 0,
   "metadata": {
    "application/vnd.databricks.v1+cell": {
     "cellMetadata": {
      "byteLimit": 2048000,
      "rowLimit": 10000
     },
     "inputWidgets": {},
     "nuid": "2b569e24-2246-49df-94fe-0812ca74008f",
     "showTitle": false,
     "tableResultSettingsMap": {},
     "title": ""
    }
   },
   "outputs": [],
   "source": [
    "data_collection_endpoint_name = f\"{log_analytics_table_name}-dce\"\n",
    "data_collection_rule_name = f\"{log_analytics_table_name}-dcr\"\n",
    "raw_stream_declaration_name = f\"Custom-{log_analytics_table_name}RawData\"\n",
    "\n",
    "credentials = ClientSecretCredential(\n",
    "    tenant_id=tenant_id,\n",
    "    client_id=sp_client_id,\n",
    "    client_secret=sp_secret\n",
    ")\n",
    "\n",
    "dcr_id = get_dcr(credentials, subscription_id, resource_group_name, data_collection_rule_name).immutable_id\n",
    "dce_url = get_dce(credentials, subscription_id, resource_group_name, data_collection_endpoint_name).logs_ingestion.endpoint\n",
    "\n",
    "client = LogsIngestionClient(endpoint=dce_url, credential=credentials, logging_enable=True)"
   ]
  },
  {
   "cell_type": "markdown",
   "metadata": {
    "application/vnd.databricks.v1+cell": {
     "cellMetadata": {
      "byteLimit": 2048000,
      "rowLimit": 10000
     },
     "inputWidgets": {},
     "nuid": "7706e538-fcc8-4d9d-9767-53fb661c606a",
     "showTitle": false,
     "tableResultSettingsMap": {},
     "title": ""
    }
   },
   "source": [
    "## Core"
   ]
  },
  {
   "cell_type": "code",
   "execution_count": 0,
   "metadata": {
    "application/vnd.databricks.v1+cell": {
     "cellMetadata": {
      "byteLimit": 2048000,
      "rowLimit": 10000
     },
     "inputWidgets": {},
     "nuid": "10021f3f-7d7e-4a78-b534-8b43707c84c8",
     "showTitle": false,
     "tableResultSettingsMap": {},
     "title": ""
    }
   },
   "outputs": [],
   "source": [
    "from typing import Iterator\n",
    "from pyspark.sql import Row, DataFrame\n",
    "from pyspark.sql.functions import to_json, struct, col\n",
    "import json\n",
    "\n",
    "def push_logs_batched(partition: Iterator[Row]):\n",
    "    def push_logs(logs):\n",
    "        try:\n",
    "            client.upload(rule_id=dcr_id, stream_name=raw_stream_declaration_name, logs=logs)\n",
    "        except HttpResponseError as e:\n",
    "            print(f\"Upload failed: {e}\")\n",
    "\n",
    "    batch_size = 1_000_000 # 1MB limits\n",
    "    current_batch_size = 0    \n",
    "    current_batch = []\n",
    "    \n",
    "    for r in partition:\n",
    "        # Check if we need to flush the current batch\n",
    "        if len(r.row_json) > (batch_size - current_batch_size):\n",
    "            push_logs(current_batch)\n",
    "            current_batch_size = 0\n",
    "            current_batch = []\n",
    "        \n",
    "        # Add the current row to the batch\n",
    "        current_batch.append(json.loads(r.row_json))\n",
    "        current_batch_size += len(r.row_json)\n",
    "\n",
    "    if current_batch_size > 0:\n",
    "            push_logs(current_batch)\n",
    "\n",
    "def push_log_to_sentinel_batched(df: DataFrame, epoch_id: int):\n",
    "    df.foreachPartition(push_logs_batched)"
   ]
  },
  {
   "cell_type": "code",
   "execution_count": 0,
   "metadata": {
    "application/vnd.databricks.v1+cell": {
     "cellMetadata": {
      "byteLimit": 2048000,
      "rowLimit": 10000
     },
     "inputWidgets": {},
     "nuid": "a069ecff-dcc6-418b-8e79-fa41f2513ec7",
     "showTitle": false,
     "tableResultSettingsMap": {},
     "title": ""
    }
   },
   "outputs": [],
   "source": [
    "input_df = (\n",
    "    spark.readStream.option(\"skipChangeCommits\", \"true\")\n",
    "    .option(\"maxFilesPerTrigger\", 1000)\n",
    "    .option(\"maxBytesPerTrigger\", \"1g\")\n",
    "    .table(system_table_name)\n",
    "    .filter(F.col(\"event_date\") >= starting_datetime)\n",
    ")\n",
    "\n",
    "if workspace_ids:\n",
    "    input_df = input_df.filter(F.col(\"workspace_id\").isin(workspace_ids))\n",
    "\n",
    "streaming_query = (\n",
    "    input_df.withColumn(\"TimeGenerated\", col(\"event_time\"))\n",
    "    .select(to_json(struct(\"*\")).alias(\"row_json\"))\n",
    "    .writeStream.option(\"checkpointLocation\", checkpoint_volume_location)\n",
    "    .outputMode(\"append\")\n",
    "    .queryName(f\"{system_table_name} streaming process\")\n",
    "    .foreachBatch(push_log_to_sentinel_batched)\n",
    ")"
   ]
  },
  {
   "cell_type": "code",
   "execution_count": 0,
   "metadata": {
    "application/vnd.databricks.v1+cell": {
     "cellMetadata": {
      "byteLimit": 2048000,
      "rowLimit": 10000
     },
     "inputWidgets": {},
     "nuid": "f9340843-1ea5-4ab7-8ef1-a37f946b2be3",
     "showTitle": false,
     "tableResultSettingsMap": {},
     "title": ""
    }
   },
   "outputs": [],
   "source": [
    "if processing_time:\n",
    "    print(f\"Starting streaming query with processing time: {processing_time}\")\n",
    "    streaming_query.trigger(processingTime=processing_time).start()\n",
    "else:\n",
    "    print(f\"Starting streaming query with availableNow trigger\")\n",
    "    q = streaming_query.trigger(availableNow=True).start()\n",
    "    q.awaitTermination()"
   ]
  },
  {
   "cell_type": "code",
   "execution_count": 0,
   "metadata": {
    "application/vnd.databricks.v1+cell": {
     "cellMetadata": {},
     "inputWidgets": {},
     "nuid": "db864d6a-e5a2-43ee-93f4-b8da1be85fea",
     "showTitle": false,
     "tableResultSettingsMap": {},
     "title": ""
    }
   },
   "outputs": [],
   "source": []
  }
 ],
 "metadata": {
  "application/vnd.databricks.v1+notebook": {
   "computePreferences": null,
   "dashboards": [],
   "environmentMetadata": {
    "base_environment": "",
    "client": "1",
    "dependencies": [
     "azure-monitor-ingestion",
     "azure-identity"
    ]
   },
   "language": "python",
   "notebookMetadata": {
    "mostRecentlyExecutedCommandWithImplicitDF": {
     "commandId": 3908405391920537,
     "dataframes": [
      "_sqldf"
     ]
    },
    "pythonIndentUnit": 4,
    "widgetLayout": []
   },
   "notebookName": "main",
   "widgets": {
    "checkpoint_volume_location": {
     "currentValue": "/Volumes/sergio/default/checkpoints/checkpoint_sergio_241211_1540",
     "nuid": "4b51a02d-d9f8-48ff-a0e0-31eb0994b6dd",
     "typedWidgetInfo": {
      "autoCreated": false,
      "defaultValue": "",
      "label": null,
      "name": "checkpoint_volume_location",
      "options": {
       "widgetDisplayType": "Text",
       "validationRegex": null
      },
      "parameterDataType": "String"
     },
     "widgetInfo": {
      "widgetType": "text",
      "defaultValue": "",
      "label": null,
      "name": "checkpoint_volume_location",
      "options": {
       "widgetType": "text",
       "autoCreated": null,
       "validationRegex": null
      }
     }
    },
    "log_analytics_table_name": {
     "currentValue": "AdbSystemAccessAudit",
     "nuid": "05e08747-f792-4e92-bff4-ffcb8b78777f",
     "typedWidgetInfo": {
      "autoCreated": false,
      "defaultValue": "",
      "label": null,
      "name": "log_analytics_table_name",
      "options": {
       "widgetDisplayType": "Text",
       "validationRegex": null
      },
      "parameterDataType": "String"
     },
     "widgetInfo": {
      "widgetType": "text",
      "defaultValue": "",
      "label": null,
      "name": "log_analytics_table_name",
      "options": {
       "widgetType": "text",
       "autoCreated": null,
       "validationRegex": null
      }
     }
    },
    "processing_time": {
     "currentValue": "1 minute",
     "nuid": "d7128f0e-19a2-4462-b430-5981b760738e",
     "typedWidgetInfo": {
      "autoCreated": false,
      "defaultValue": "1 minute",
      "label": null,
      "name": "processing_time",
      "options": {
       "widgetDisplayType": "Text",
       "validationRegex": null
      },
      "parameterDataType": "String"
     },
     "widgetInfo": {
      "widgetType": "text",
      "defaultValue": "1 minute",
      "label": null,
      "name": "processing_time",
      "options": {
       "widgetType": "text",
       "autoCreated": null,
       "validationRegex": null
      }
     }
    },
    "resource_group_name": {
     "currentValue": "sschena-sentinel-test",
     "nuid": "fe6f11f7-b7b7-44cc-8230-0a335fa9f4d7",
     "typedWidgetInfo": {
      "autoCreated": false,
      "defaultValue": "",
      "label": null,
      "name": "resource_group_name",
      "options": {
       "widgetDisplayType": "Text",
       "validationRegex": null
      },
      "parameterDataType": "String"
     },
     "widgetInfo": {
      "widgetType": "text",
      "defaultValue": "",
      "label": null,
      "name": "resource_group_name",
      "options": {
       "widgetType": "text",
       "autoCreated": null,
       "validationRegex": null
      }
     }
    },
    "sp_client_id": {
     "currentValue": "9d250509-d429-43dc-905e-81dbed30e842",
     "nuid": "2de71eb2-2beb-4a05-9126-2dcac0a7113c",
     "typedWidgetInfo": {
      "autoCreated": false,
      "defaultValue": "",
      "label": null,
      "name": "sp_client_id",
      "options": {
       "widgetDisplayType": "Text",
       "validationRegex": null
      },
      "parameterDataType": "String"
     },
     "widgetInfo": {
      "widgetType": "text",
      "defaultValue": "",
      "label": null,
      "name": "sp_client_id",
      "options": {
       "widgetType": "text",
       "autoCreated": null,
       "validationRegex": null
      }
     }
    },
    "sp_client_secret_key": {
     "currentValue": "sp-sentinel-secret",
     "nuid": "8d29f73a-b546-4e48-990f-1cb4f8899f6d",
     "typedWidgetInfo": {
      "autoCreated": false,
      "defaultValue": "",
      "label": null,
      "name": "sp_client_secret_key",
      "options": {
       "widgetDisplayType": "Text",
       "validationRegex": null
      },
      "parameterDataType": "String"
     },
     "widgetInfo": {
      "widgetType": "text",
      "defaultValue": "",
      "label": null,
      "name": "sp_client_secret_key",
      "options": {
       "widgetType": "text",
       "autoCreated": null,
       "validationRegex": null
      }
     }
    },
    "sp_client_secret_scope": {
     "currentValue": "sschena-dbx-managed",
     "nuid": "9ba64b2d-2757-4d24-9d41-cb4af21224fc",
     "typedWidgetInfo": {
      "autoCreated": false,
      "defaultValue": "",
      "label": null,
      "name": "sp_client_secret_scope",
      "options": {
       "widgetDisplayType": "Text",
       "validationRegex": null
      },
      "parameterDataType": "String"
     },
     "widgetInfo": {
      "widgetType": "text",
      "defaultValue": "",
      "label": null,
      "name": "sp_client_secret_scope",
      "options": {
       "widgetType": "text",
       "autoCreated": null,
       "validationRegex": null
      }
     }
    },
    "starting_datetime": {
     "currentValue": "2024-12-01 00:00:00",
     "nuid": "ad8bf361-8b0b-46f5-8ae3-13b99fd78b99",
     "typedWidgetInfo": {
      "autoCreated": false,
      "defaultValue": "",
      "label": null,
      "name": "starting_datetime",
      "options": {
       "widgetDisplayType": "Text",
       "validationRegex": null
      },
      "parameterDataType": "String"
     },
     "widgetInfo": {
      "widgetType": "text",
      "defaultValue": "",
      "label": null,
      "name": "starting_datetime",
      "options": {
       "widgetType": "text",
       "autoCreated": null,
       "validationRegex": null
      }
     }
    },
    "subscription_id": {
     "currentValue": "edd4cc45-85c7-4aec-8bf5-648062d519bf",
     "nuid": "4b2a8452-f7df-4723-b6e3-63c92f1e4f85",
     "typedWidgetInfo": {
      "autoCreated": false,
      "defaultValue": "",
      "label": null,
      "name": "subscription_id",
      "options": {
       "widgetDisplayType": "Text",
       "validationRegex": null
      },
      "parameterDataType": "String"
     },
     "widgetInfo": {
      "widgetType": "text",
      "defaultValue": "",
      "label": null,
      "name": "subscription_id",
      "options": {
       "widgetType": "text",
       "autoCreated": null,
       "validationRegex": null
      }
     }
    },
    "system_table_name": {
     "currentValue": "system.access.audit",
     "nuid": "dad4006c-1ab4-49ee-aaec-5c195796cf09",
     "typedWidgetInfo": {
      "autoCreated": false,
      "defaultValue": "",
      "label": null,
      "name": "system_table_name",
      "options": {
       "widgetDisplayType": "Text",
       "validationRegex": null
      },
      "parameterDataType": "String"
     },
     "widgetInfo": {
      "widgetType": "text",
      "defaultValue": "",
      "label": null,
      "name": "system_table_name",
      "options": {
       "widgetType": "text",
       "autoCreated": null,
       "validationRegex": null
      }
     }
    },
    "tenant_id": {
     "currentValue": "bf465dc7-3bc8-4944-b018-092572b5c20d",
     "nuid": "e4f93fca-0e0b-4f5e-84ca-e051044cba06",
     "typedWidgetInfo": {
      "autoCreated": false,
      "defaultValue": "",
      "label": null,
      "name": "tenant_id",
      "options": {
       "widgetDisplayType": "Text",
       "validationRegex": null
      },
      "parameterDataType": "String"
     },
     "widgetInfo": {
      "widgetType": "text",
      "defaultValue": "",
      "label": null,
      "name": "tenant_id",
      "options": {
       "widgetType": "text",
       "autoCreated": null,
       "validationRegex": null
      }
     }
    },
    "workspace_ids": {
     "currentValue": "[\"8752583164848723\"]",
     "nuid": "2b625f43-d414-496f-a83f-f02cc6031567",
     "typedWidgetInfo": {
      "autoCreated": false,
      "defaultValue": "",
      "label": null,
      "name": "workspace_ids",
      "options": {
       "widgetDisplayType": "Text",
       "validationRegex": null
      },
      "parameterDataType": "String"
     },
     "widgetInfo": {
      "widgetType": "text",
      "defaultValue": "",
      "label": null,
      "name": "workspace_ids",
      "options": {
       "widgetType": "text",
       "autoCreated": null,
       "validationRegex": null
      }
     }
    }
   }
  },
  "language_info": {
   "name": "python"
  }
 },
 "nbformat": 4,
 "nbformat_minor": 0
}
