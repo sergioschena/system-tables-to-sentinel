{
 "cells": [
  {
   "cell_type": "markdown",
   "metadata": {
    "application/vnd.databricks.v1+cell": {
     "cellMetadata": {
      "byteLimit": 2048000,
      "rowLimit": 10000
     },
     "inputWidgets": {},
     "nuid": "266f538c-4cc9-4255-85d7-be274589c2a8",
     "showTitle": false,
     "tableResultSettingsMap": {},
     "title": ""
    }
   },
   "source": [
    "#Setup Network Outbound Table"
   ]
  },
  {
   "cell_type": "code",
   "execution_count": 0,
   "metadata": {
    "application/vnd.databricks.v1+cell": {
     "cellMetadata": {
      "byteLimit": 2048000,
      "rowLimit": 10000
     },
     "inputWidgets": {},
     "nuid": "efa23fc7-239b-4610-a710-ac775e74c2ee",
     "showTitle": false,
     "tableResultSettingsMap": {},
     "title": ""
    }
   },
   "outputs": [],
   "source": [
    "%pip install -r ./requirements.txt -q\n",
    "dbutils.library.restartPython()"
   ]
  },
  {
   "cell_type": "code",
   "execution_count": 0,
   "metadata": {
    "application/vnd.databricks.v1+cell": {
     "cellMetadata": {
      "byteLimit": 2048000,
      "rowLimit": 10000
     },
     "inputWidgets": {},
     "nuid": "1c0bab14-ac2b-464e-b7d3-dff125a6ee3a",
     "showTitle": false,
     "tableResultSettingsMap": {},
     "title": ""
    }
   },
   "outputs": [],
   "source": [
    "from sentinel_libraries import *"
   ]
  },
  {
   "cell_type": "markdown",
   "metadata": {
    "application/vnd.databricks.v1+cell": {
     "cellMetadata": {
      "byteLimit": 2048000,
      "rowLimit": 10000
     },
     "inputWidgets": {},
     "nuid": "c016bff9-40e8-4509-b06a-f19b0a975df8",
     "showTitle": false,
     "tableResultSettingsMap": {},
     "title": ""
    }
   },
   "source": [
    "## Environment"
   ]
  },
  {
   "cell_type": "code",
   "execution_count": 0,
   "metadata": {
    "application/vnd.databricks.v1+cell": {
     "cellMetadata": {
      "byteLimit": 2048000,
      "rowLimit": 10000
     },
     "inputWidgets": {},
     "nuid": "27b00ab1-9d55-44eb-882d-97b51548b109",
     "showTitle": false,
     "tableResultSettingsMap": {},
     "title": ""
    }
   },
   "outputs": [],
   "source": [
    "dbutils.widgets.text(\"tenant_id\", \"\")\n",
    "dbutils.widgets.text(\"subscription_id\", \"\")\n",
    "dbutils.widgets.text(\"sp_client_id\", \"\")\n",
    "dbutils.widgets.text(\"sp_client_secret_scope\", \"\")\n",
    "dbutils.widgets.text(\"sp_client_secret_key\", \"\")\n",
    "dbutils.widgets.text(\"resource_group_name\", \"\")\n",
    "dbutils.widgets.text(\"location\", \"\")\n",
    "dbutils.widgets.text(\"log_analytics_workspace_name\", \"\")\n",
    "dbutils.widgets.text(\"log_analytics_resource_group_name\", \"\")\n",
    "dbutils.widgets.text(\"table_name\", \"AdbSystemAccessOutboundNetwork\")"
   ]
  },
  {
   "cell_type": "code",
   "execution_count": 0,
   "metadata": {
    "application/vnd.databricks.v1+cell": {
     "cellMetadata": {
      "byteLimit": 2048000,
      "rowLimit": 10000
     },
     "inputWidgets": {},
     "nuid": "77b597a6-e8e7-4d73-851d-89a64beaaa72",
     "showTitle": false,
     "tableResultSettingsMap": {},
     "title": ""
    }
   },
   "outputs": [],
   "source": [
    "tenant_id = dbutils.widgets.get(\"tenant_id\")\n",
    "subscription_id = dbutils.widgets.get(\"subscription_id\")\n",
    "sp_client_id = dbutils.widgets.get(\"sp_client_id\")\n",
    "sp_client_secret_scope = dbutils.widgets.get(\"sp_client_secret_scope\")\n",
    "sp_client_secret_key = dbutils.widgets.get(\"sp_client_secret_key\")\n",
    "resource_group_name = dbutils.widgets.get(\"resource_group_name\")\n",
    "location = dbutils.widgets.get(\"location\")\n",
    "log_analytics_workspace_name = dbutils.widgets.get(\"log_analytics_workspace_name\")\n",
    "log_analytics_resource_group_name = dbutils.widgets.get(\"log_analytics_resource_group_name\")\n",
    "table_name = dbutils.widgets.get(\"table_name\")"
   ]
  },
  {
   "cell_type": "code",
   "execution_count": 0,
   "metadata": {
    "application/vnd.databricks.v1+cell": {
     "cellMetadata": {
      "byteLimit": 2048000,
      "rowLimit": 10000
     },
     "inputWidgets": {},
     "nuid": "8cd2bcb8-41e0-4046-ba49-94ddb30a5a76",
     "showTitle": false,
     "tableResultSettingsMap": {},
     "title": ""
    }
   },
   "outputs": [],
   "source": [
    "sp_secret = dbutils.secrets.get(sp_client_secret_scope, sp_client_secret_key)\n",
    "table_retention_in_days = 180\n",
    "\n",
    "log_analytics_table_name = f\"{table_name}_CL\"\n",
    "data_collection_endpoint_name = f\"{table_name}-dce\"\n",
    "data_collection_rule_name = f\"{table_name}-dcr\"\n",
    "raw_stream_declaration_name = f\"Custom-{table_name}RawData\""
   ]
  },
  {
   "cell_type": "code",
   "execution_count": 0,
   "metadata": {
    "application/vnd.databricks.v1+cell": {
     "cellMetadata": {
      "byteLimit": 2048000,
      "rowLimit": 10000
     },
     "inputWidgets": {},
     "nuid": "44e89787-0754-4690-98a3-545490aecd5d",
     "showTitle": false,
     "tableResultSettingsMap": {},
     "title": ""
    }
   },
   "outputs": [],
   "source": [
    "from azure.identity import ClientSecretCredential, DefaultAzureCredential\n",
    "\n",
    "credentials = ClientSecretCredential(\n",
    "    tenant_id=tenant_id,\n",
    "    client_id=sp_client_id,\n",
    "    client_secret=sp_secret,\n",
    ")"
   ]
  },
  {
   "cell_type": "markdown",
   "metadata": {
    "application/vnd.databricks.v1+cell": {
     "cellMetadata": {},
     "inputWidgets": {},
     "nuid": "5b4008fc-12dd-4168-b930-eb6e92788d8a",
     "showTitle": false,
     "tableResultSettingsMap": {},
     "title": ""
    }
   },
   "source": [
    "### Log Analytics Contributor on the resource group"
   ]
  },
  {
   "cell_type": "markdown",
   "metadata": {
    "application/vnd.databricks.v1+cell": {
     "cellMetadata": {
      "byteLimit": 2048000,
      "rowLimit": 10000
     },
     "inputWidgets": {},
     "nuid": "5cc769a2-4633-4d1d-92d9-03caf1e98352",
     "showTitle": false,
     "tableResultSettingsMap": {},
     "title": ""
    }
   },
   "source": [
    "## Log Analytics Table Creation"
   ]
  },
  {
   "cell_type": "code",
   "execution_count": 0,
   "metadata": {
    "application/vnd.databricks.v1+cell": {
     "cellMetadata": {
      "byteLimit": 2048000,
      "rowLimit": 10000
     },
     "inputWidgets": {},
     "nuid": "04720b2e-dc6d-4f99-8423-b37fa35d7e35",
     "showTitle": false,
     "tableResultSettingsMap": {},
     "title": ""
    }
   },
   "outputs": [],
   "source": [
    "log_analytics_table_schema = Schema(\n",
    "    name=log_analytics_table_name,\n",
    "    description=\"Databricks system.access.outbound_network system table\",\n",
    "    columns=[\n",
    "        Column(name=\"TimeGenerated\", type=ColumnTypeEnum.DATE_TIME),\n",
    "        Column(name=\"TimeIngested\", type=ColumnTypeEnum.DATE_TIME),\n",
    "        Column(name=\"account_id\", type=ColumnTypeEnum.STRING),\n",
    "        Column(name=\"workspace_id\", type=ColumnTypeEnum.STRING),\n",
    "        Column(name=\"event_id\", type=ColumnTypeEnum.STRING),\n",
    "        Column(name=\"destination_type\", type=ColumnTypeEnum.STRING),\n",
    "        Column(name=\"destination\", type=ColumnTypeEnum.STRING),\n",
    "        Column(name=\"dns_event\", type=ColumnTypeEnum.DYNAMIC),\n",
    "        Column(name=\"ip_event\", type=ColumnTypeEnum.DYNAMIC),\n",
    "        Column(name=\"storage_event\", type=ColumnTypeEnum.DYNAMIC),\n",
    "        Column(name=\"event_time\", type=ColumnTypeEnum.DATE_TIME),\n",
    "        Column(name=\"access_type\", type=ColumnTypeEnum.STRING),\n",
    "    ],\n",
    ")\n",
    "log_analytics_table = Table(retention_in_days=table_retention_in_days, schema=log_analytics_table_schema)"
   ]
  },
  {
   "cell_type": "code",
   "execution_count": 0,
   "metadata": {
    "application/vnd.databricks.v1+cell": {
     "cellMetadata": {
      "byteLimit": 2048000,
      "rowLimit": 10000
     },
     "inputWidgets": {},
     "nuid": "e68bcad8-afa8-4894-8a1f-4d7f5f32d7d6",
     "showTitle": false,
     "tableResultSettingsMap": {},
     "title": ""
    }
   },
   "outputs": [],
   "source": [
    "table = get_table(\n",
    "    credentials, subscription_id, log_analytics_resource_group_name, log_analytics_workspace_name, log_analytics_table_name\n",
    ")\n",
    "if not table:\n",
    "    create_table(\n",
    "        log_analytics_table_name,\n",
    "        log_analytics_table,\n",
    "        credentials,\n",
    "        subscription_id,\n",
    "        log_analytics_resource_group_name,\n",
    "        log_analytics_workspace_name,\n",
    "    )\n",
    "    print(f\"Table {log_analytics_table_name} created!\")\n",
    "else:\n",
    "    print(f\"Table creation skipped: {log_analytics_table_name} already exists.\")"
   ]
  },
  {
   "cell_type": "markdown",
   "metadata": {
    "application/vnd.databricks.v1+cell": {
     "cellMetadata": {
      "byteLimit": 2048000,
      "rowLimit": 10000
     },
     "inputWidgets": {},
     "nuid": "6b248bb7-aafa-4d4b-b70a-58508a9195af",
     "showTitle": false,
     "tableResultSettingsMap": {},
     "title": ""
    }
   },
   "source": [
    "### Monitoring Contributor on the resource group"
   ]
  },
  {
   "cell_type": "markdown",
   "metadata": {
    "application/vnd.databricks.v1+cell": {
     "cellMetadata": {
      "byteLimit": 2048000,
      "rowLimit": 10000
     },
     "inputWidgets": {},
     "nuid": "f9d9e791-7d30-4542-98fd-a99d76b7310c",
     "showTitle": false,
     "tableResultSettingsMap": {},
     "title": ""
    }
   },
   "source": [
    "## DCE Creation"
   ]
  },
  {
   "cell_type": "code",
   "execution_count": 0,
   "metadata": {
    "application/vnd.databricks.v1+cell": {
     "cellMetadata": {
      "byteLimit": 2048000,
      "rowLimit": 10000
     },
     "inputWidgets": {},
     "nuid": "36888603-d07d-4c75-b1ae-a583fdec0a59",
     "showTitle": false,
     "tableResultSettingsMap": {},
     "title": ""
    }
   },
   "outputs": [],
   "source": [
    "dce = get_dce(credentials, subscription_id, resource_group_name, data_collection_endpoint_name)\n",
    "if not dce:\n",
    "    dce = create_dce(location, credentials, subscription_id, resource_group_name, data_collection_endpoint_name)\n",
    "    print(f\"DCE {data_collection_endpoint_name} created!\")\n",
    "else:\n",
    "    print(f\"DCE creation skipped: {data_collection_endpoint_name} already exists.\")"
   ]
  },
  {
   "cell_type": "markdown",
   "metadata": {
    "application/vnd.databricks.v1+cell": {
     "cellMetadata": {
      "byteLimit": 2048000,
      "rowLimit": 10000
     },
     "inputWidgets": {},
     "nuid": "f6c02f47-a5ed-4907-b563-6445d9de05cc",
     "showTitle": false,
     "tableResultSettingsMap": {},
     "title": ""
    }
   },
   "source": [
    "## DCR Creation"
   ]
  },
  {
   "cell_type": "code",
   "execution_count": 0,
   "metadata": {
    "application/vnd.databricks.v1+cell": {
     "cellMetadata": {
      "byteLimit": 2048000,
      "rowLimit": 10000
     },
     "inputWidgets": {},
     "nuid": "567f6757-b469-40ae-82f7-474ad9e9ea5a",
     "showTitle": false,
     "tableResultSettingsMap": {},
     "title": ""
    }
   },
   "outputs": [],
   "source": [
    "dcr = get_dcr(credentials, subscription_id, resource_group_name, data_collection_rule_name)\n",
    "if not dcr:\n",
    "    dcr = create_dcr(log_analytics_resource_group_name, log_analytics_workspace_name, log_analytics_table_schema, raw_stream_declaration_name, log_analytics_table_name, location, credentials, subscription_id, resource_group_name, data_collection_rule_name, data_collection_endpoint_name)\n",
    "    print(f\"DCR {data_collection_rule_name} created!\")\n",
    "else:\n",
    "    print(f\"DCR creation skipped: {data_collection_rule_name} already exists.\")"
   ]
  },
  {
   "cell_type": "code",
   "execution_count": 0,
   "metadata": {
    "application/vnd.databricks.v1+cell": {
     "cellMetadata": {},
     "inputWidgets": {},
     "nuid": "28f0da8a-a025-4fef-902c-f9846c12be78",
     "showTitle": false,
     "tableResultSettingsMap": {},
     "title": ""
    }
   },
   "outputs": [],
   "source": []
  }
 ],
 "metadata": {
  "application/vnd.databricks.v1+notebook": {
   "computePreferences": null,
   "dashboards": [],
   "environmentMetadata": null,
   "language": "python",
   "notebookMetadata": {
    "pythonIndentUnit": 2
   },
   "notebookName": "network_setup_dcr_with_dce",
   "widgets": {
    "location": {
     "currentValue": "",
     "nuid": "5047edb2-2403-481f-93f9-41f2225cb74e",
     "typedWidgetInfo": {
      "autoCreated": false,
      "defaultValue": "",
      "label": null,
      "name": "location",
      "options": {
       "widgetDisplayType": "Text",
       "validationRegex": null
      },
      "parameterDataType": "String"
     },
     "widgetInfo": {
      "widgetType": "text",
      "defaultValue": "",
      "label": null,
      "name": "location",
      "options": {
       "widgetType": "text",
       "autoCreated": null,
       "validationRegex": null
      }
     }
    },
    "log_analytics_resource_group_name": {
     "currentValue": "",
     "nuid": "ac499e6c-56ad-47d6-b0f9-092cef1102ae",
     "typedWidgetInfo": {
      "autoCreated": false,
      "defaultValue": "",
      "label": null,
      "name": "log_analytics_resource_group_name",
      "options": {
       "widgetDisplayType": "Text",
       "validationRegex": null
      },
      "parameterDataType": "String"
     },
     "widgetInfo": {
      "widgetType": "text",
      "defaultValue": "",
      "label": null,
      "name": "log_analytics_resource_group_name",
      "options": {
       "widgetType": "text",
       "autoCreated": null,
       "validationRegex": null
      }
     }
    },
    "log_analytics_workspace_name": {
     "currentValue": "",
     "nuid": "bad8f801-f030-4a82-a4cb-c3884511d32f",
     "typedWidgetInfo": {
      "autoCreated": false,
      "defaultValue": "",
      "label": null,
      "name": "log_analytics_workspace_name",
      "options": {
       "widgetDisplayType": "Text",
       "validationRegex": null
      },
      "parameterDataType": "String"
     },
     "widgetInfo": {
      "widgetType": "text",
      "defaultValue": "",
      "label": null,
      "name": "log_analytics_workspace_name",
      "options": {
       "widgetType": "text",
       "autoCreated": null,
       "validationRegex": null
      }
     }
    },
    "resource_group_name": {
     "currentValue": "",
     "nuid": "cbbd8365-1511-4211-aa4b-5f2c1ba27c27",
     "typedWidgetInfo": {
      "autoCreated": false,
      "defaultValue": "",
      "label": null,
      "name": "resource_group_name",
      "options": {
       "widgetDisplayType": "Text",
       "validationRegex": null
      },
      "parameterDataType": "String"
     },
     "widgetInfo": {
      "widgetType": "text",
      "defaultValue": "",
      "label": null,
      "name": "resource_group_name",
      "options": {
       "widgetType": "text",
       "autoCreated": null,
       "validationRegex": null
      }
     }
    },
    "sp_client_id": {
     "currentValue": "",
     "nuid": "75a45be6-aa36-4a2a-902d-9ef81ea883c1",
     "typedWidgetInfo": {
      "autoCreated": false,
      "defaultValue": "",
      "label": null,
      "name": "sp_client_id",
      "options": {
       "widgetDisplayType": "Text",
       "validationRegex": null
      },
      "parameterDataType": "String"
     },
     "widgetInfo": {
      "widgetType": "text",
      "defaultValue": "",
      "label": null,
      "name": "sp_client_id",
      "options": {
       "widgetType": "text",
       "autoCreated": null,
       "validationRegex": null
      }
     }
    },
    "sp_client_secret_key": {
     "currentValue": "",
     "nuid": "8b8217b7-133d-4b5f-9770-d1e5a1f332b2",
     "typedWidgetInfo": {
      "autoCreated": false,
      "defaultValue": "",
      "label": null,
      "name": "sp_client_secret_key",
      "options": {
       "widgetDisplayType": "Text",
       "validationRegex": null
      },
      "parameterDataType": "String"
     },
     "widgetInfo": {
      "widgetType": "text",
      "defaultValue": "",
      "label": null,
      "name": "sp_client_secret_key",
      "options": {
       "widgetType": "text",
       "autoCreated": null,
       "validationRegex": null
      }
     }
    },
    "sp_client_secret_scope": {
     "currentValue": "",
     "nuid": "762dc3d1-aa1e-4392-8cc1-ddba75aa1b26",
     "typedWidgetInfo": {
      "autoCreated": false,
      "defaultValue": "",
      "label": null,
      "name": "sp_client_secret_scope",
      "options": {
       "widgetDisplayType": "Text",
       "validationRegex": null
      },
      "parameterDataType": "String"
     },
     "widgetInfo": {
      "widgetType": "text",
      "defaultValue": "",
      "label": null,
      "name": "sp_client_secret_scope",
      "options": {
       "widgetType": "text",
       "autoCreated": null,
       "validationRegex": null
      }
     }
    },
    "subscription_id": {
     "currentValue": "",
     "nuid": "ae498d19-aa12-4f43-9af9-6a183936e882",
     "typedWidgetInfo": {
      "autoCreated": false,
      "defaultValue": "",
      "label": null,
      "name": "subscription_id",
      "options": {
       "widgetDisplayType": "Text",
       "validationRegex": null
      },
      "parameterDataType": "String"
     },
     "widgetInfo": {
      "widgetType": "text",
      "defaultValue": "",
      "label": null,
      "name": "subscription_id",
      "options": {
       "widgetType": "text",
       "autoCreated": null,
       "validationRegex": null
      }
     }
    },
    "table_name": {
     "currentValue": "AdbSystemAccessOutboundNetwork",
     "nuid": "2fc9fd96-49b7-4ded-a91b-6459fdabc201",
     "typedWidgetInfo": {
      "autoCreated": false,
      "defaultValue": "AdbSystemAccessOutboundNetwork",
      "label": null,
      "name": "table_name",
      "options": {
       "widgetDisplayType": "Text",
       "validationRegex": null
      },
      "parameterDataType": "String"
     },
     "widgetInfo": {
      "widgetType": "text",
      "defaultValue": "AdbSystemAccessOutboundNetwork",
      "label": null,
      "name": "table_name",
      "options": {
       "widgetType": "text",
       "autoCreated": null,
       "validationRegex": null
      }
     }
    },
    "tenant_id": {
     "currentValue": "",
     "nuid": "c78022be-ddb5-4635-82f6-5b781ca21d46",
     "typedWidgetInfo": {
      "autoCreated": false,
      "defaultValue": "",
      "label": null,
      "name": "tenant_id",
      "options": {
       "widgetDisplayType": "Text",
       "validationRegex": null
      },
      "parameterDataType": "String"
     },
     "widgetInfo": {
      "widgetType": "text",
      "defaultValue": "",
      "label": null,
      "name": "tenant_id",
      "options": {
       "widgetType": "text",
       "autoCreated": null,
       "validationRegex": null
      }
     }
    }
   }
  },
  "kernelspec": {
   "display_name": ".venv",
   "language": "python",
   "name": "python3"
  },
  "language_info": {
   "name": "python"
  }
 },
 "nbformat": 4,
 "nbformat_minor": 0
}
